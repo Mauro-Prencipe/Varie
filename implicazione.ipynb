{
 "cells": [
  {
   "cell_type": "markdown",
   "id": "02d84209",
   "metadata": {},
   "source": [
    "# Calcoli logici\n",
    "\n",
    "Nelle dimostrazioni matematiche (o, più in generale *logiche*) si fa spesso uso della relazione di *implicazione* che altro non è che una delle numerose relazioni *binarie* che *agiscono* su due elementi di un dato insieme $A$ e producono un risultato nell'insieme $V=\\{T, F\\}$, dove $T$ sta per *vero* (*True*) ed $F$ sta per *Falso* (*False*). \n",
    "\n",
    "A lezione abbiamo affrontato il tema delle relazioni di equivalenza ($\\sim$) che, analogamente alle relazioni binarie puramente logiche, sono definite su un insieme che è il prodotto cartesiano di un insieme $A$ con sé stesso, con un risultato nell'insieme $V$: $\\ \\ \\ \\sim \\ : A\\times A \\rightarrow V\\ $; fissata una particolare relazione $\\sim$ diciamo che $a,b\\in A$ sono *equivalenti* se $\\ \\sim(a,b) \\equiv a\\sim b = T\\in V$. Per essere di equivalenza, abbiamo visto, $\\sim$ deve essere una relazione\n",
    "\n",
    "- riflessiva: $\\ \\forall a\\in A,\\ a\\sim a$\n",
    "- simmetrica: $\\ \\forall a,b\\in A, \\ a\\sim b \\rightarrow b\\sim a$\n",
    "- transitiva: $\\ \\forall a,b,c\\in A, \\ a\\sim b \\wedge b \\sim c \\rightarrow a\\sim c$\n",
    "\n",
    "Vogliamo qui approfondire il tema dei calcoli logici, con particolare riguardo alla relazione di *implicazione* ($\\rightarrow$). Nel caso specifico, l'insieme $A$ è quello di tutte le *proposizioni* logiche: *espressioni logiche* il cui *valore* può solo essere $T$ o $F$. Di tutte le possibili relazioni logiche dello stesso genere, quella di *implicazione* è la meno *intuitiva* nel senso che non è sempre chiaro il *perchè* della sua *tabella di verità*: l'insieme dei valori che assume per ogni coppia dell'insieme $A\\times A$ di proposizioni logiche.\n",
    "\n",
    "Il problema è affrontato utilizzando come strumento l'ambiente di programmazione Python; gli studenti non interessati ai dettagli di tipo informatico, o che non abbiano alcuna esperienza in quel linguaggio di programmazione, possono limitarsi a leggere i *risultati* presentati, sorvolando sugli aspetti tecnici legati al linguaggio e alla sua particolare implementazione nel caso specifico. \n",
    "\n",
    "### Valore dell'implicazione"
   ]
  },
  {
   "cell_type": "markdown",
   "id": "d52abe66",
   "metadata": {},
   "source": [
    "Definiamo due variabili logiche *p* e *q* (che, nell'implementazione che segue, saranno due attributi dell'istanza *l* della classe *variable*). "
   ]
  },
  {
   "cell_type": "code",
   "execution_count": 1,
   "id": "6e320ed8",
   "metadata": {},
   "outputs": [],
   "source": [
    "import numpy as np\n",
    "\n",
    "class variable():\n",
    "    def __init__(self):\n",
    "        self.p=np.array([True, True, False, False])\n",
    "        self.q=np.array([True, False, True, False])   \n",
    "        self.neg_p=np.logical_not(self.p)\n",
    "        self.neg_q=np.logical_not(self.q)\n",
    "        self.ln=4\n",
    "        \n",
    "\n",
    "l=variable()"
   ]
  },
  {
   "cell_type": "markdown",
   "id": "c0a1afd2",
   "metadata": {},
   "source": [
    "Ad esempio, se richiamiamo p (l.p):"
   ]
  },
  {
   "cell_type": "code",
   "execution_count": 2,
   "id": "edae5447",
   "metadata": {},
   "outputs": [
    {
     "data": {
      "text/plain": [
       "array([ True,  True, False, False])"
      ]
     },
     "execution_count": 2,
     "metadata": {},
     "output_type": "execute_result"
    }
   ],
   "source": [
    "l.p"
   ]
  },
  {
   "cell_type": "markdown",
   "id": "f666a8b7",
   "metadata": {},
   "source": [
    "Nella classe *variable* abbiamo anche ottenuto le variabili logiche *not(p)* e *not(q)* (*l.neg_p* e *l.neg_q*, rispettivamente). Ad esempio:"
   ]
  },
  {
   "cell_type": "code",
   "execution_count": 3,
   "id": "554da4a5",
   "metadata": {},
   "outputs": [
    {
     "data": {
      "text/plain": [
       "array([False, False,  True,  True])"
      ]
     },
     "execution_count": 3,
     "metadata": {},
     "output_type": "execute_result"
    }
   ],
   "source": [
    "l.neg_p"
   ]
  },
  {
   "cell_type": "markdown",
   "id": "39cc41fe",
   "metadata": {},
   "source": [
    "Dobbiamo adesso preoccuparci di quali valori di verità assegnare all'*implicazione* (*imp*). L'implicazione logica è una relazione *binaria*, nel senso che *agisce* su due proposizioni logiche *p* e *q*, che viene normalmente simboleggiata dalla scrittura\n",
    "\n",
    "$$p \\rightarrow q\\ \\ \\ \\ \\ \\ (1)$$\n",
    "\n",
    "e, come per ogni relazione binaria, ha un valore assegnato (vero: *true*, T, oppure falso: *false*, F) per ogni coppia di valori delle variabili *p* e *q* su cui agisce.\n",
    "\n",
    "Poiché si tratta di una relazione binaria (agisce su esattamente 2 variabili) e ognuna delle variabili su cui agisce può assumere solo due valori (T o F), il dominio (*D*) della relazione comprende 4 possibili casi:\n",
    "\n",
    "$$D = \\{(T, T); (T, F); (F, T); (F; F)\\}\\nonumber$$\n",
    "\n",
    "Per definire compiutamente la relazione di implicazione abbiamo bisogno di specificarne il valore per ogni caso appartenente al suo dominio. \n",
    "\n",
    "In generale, per una qualunque relazione logica binaria *R*, l'immagine di *D* sotto *R* è l'insieme $V=\\{T, F\\}$: \n",
    "\n",
    "$$R: D\\rightarrow V\\ \\ \\ \\ \\ (2)$$\n",
    "\n",
    "(*R manda D in V*). Per esempio, la relazione binaria *and* (*e* logico) è definita dalle 4 assegnazioni\n",
    "\n",
    "- *and*(T,T)=T\n",
    "- *and*(T,F)=F\n",
    "- *and*(F,T)=F\n",
    "- *and*(F,F)=F\n",
    "\n",
    "Queste 4 assegnazioni definiscono compiutamente la relazione *and*. Si verifichi per esercizio che l'insieme (ordinato) (T, T, T, F) sugli stessi 4 casi del dominio *D* visti per la relazione *and*, corrisponde alla relazione *or* (*o* logico).\n",
    "\n",
    "Si verifica facilmente che esistono 16 possibili (differenti) relazioni logiche binarie, ciascuna essendo definita in base ai valori che assume sui 4 casi del dominio *D*. Infatti, *R(p,q)* può avere solo due possibili valori logici (T oppure F), e il valore che assume per ciascun caso è indipendente da quello che assume per ogni altra coppia *(p,q)* che appartiene a *D*. Le possibilità di assegnazione dei valori assunti da *R* sono dunque $2^4=16$.   \n",
    "\n",
    "I due casi visti per *and* (T, F, F, F) e *or* (T, T, T, F) sono due delle 16 possibilità. Un'altra relazione è per esempio definita da (T, T, T, T), cioè è sempre *vera* qualunque siano i valori delle due variabili *p* e *q* su cui agisce. Una relazione simile si chiama ***tautologia***.\n",
    "\n",
    "Dobbiamo adesso trovare un'adatta assegnazione per l'implicazione tra le 16 possibili, che sia il più possibile *aderente* a quello che, nel regionamento *logico*, intendiamo appunto con il termine *implicazione*; per esempio, l'implicazione non è normalmente intesa essere una tautologia, altrimenti ogni proposizione (logica) *implicherebbe* necessariamente la verità di ogni altra proposizione. Nello stesso modo, se assegnassimo a *imp* l'insieme (F, F, F, F) (che effettivamente è una delle 16 possibilità) non avremmo una relazione adatta a descrivere quello che intendiamo con implicazione, perchè questa sarebbe sempre *falsa* a prescindere dalle proposizioni logiche su cui agisce.  \n",
    "\n",
    "Esistono almeno due casi in cui l'implicazione viene usata nei ragionamenti logici; si tratta di due *strumenti* spesso impiegati nelle *dimostrazioni* logiche. Uno è il ***modus ponens***\n",
    "\n",
    "**Se *p* è *vero* *e* se *p implica q*, *allora* *q* è *vero***\n",
    "\n",
    "Si noti che il termine ***allora*** nel costrutto di cui sopra, non è che un *sinonimo* di ***implica***; in effetti la verità di *q* è *implicata* dal fatto che *p* è vero e che *p implica q*. *Formalmente*, possiamo riformulare il *modus ponens* come:\n",
    "\n",
    "$$p\\wedge (p\\rightarrow q) \\rightarrow q\\ \\ \\ \\ \\ (3)$$ \n",
    "\n",
    "dove il simbolo $\\wedge$ indica la relazione logica *and*. \n",
    "\n",
    "Noi vogliamo che il *modus ponens* sia una *forma di ragionamento valida* (cioè sia *vera*) *indipendentemente* dai valori di verità delle proposizioni logiche *p* e *q* coinvolte nel ragionamento. In altre parole, **vogliamo che il *modus ponens* sia una tautologia**. \n",
    "\n",
    "Tra tutte le 16 possibilità per l'implicazione, solo alcune saranno aderenti a quello che intendiamo con la parola *implica* *e*, nel contempo, renderanno il *modus ponens* una *tautologia*. \n",
    "\n",
    "Nello script python che segue, ridefiniamo la classe *variable* in modo che includa una funzione (*metodo* della classe) che possa generare tutte le 16 possibili assegnazioni di una relazione binaria *R*:"
   ]
  },
  {
   "cell_type": "code",
   "execution_count": 4,
   "id": "5af679c6",
   "metadata": {},
   "outputs": [],
   "source": [
    "class variable():\n",
    "    def __init__(self):\n",
    "        self.p=np.array([True, True, False, False])\n",
    "        self.q=np.array([True, False, True, False])   \n",
    "        self.neg_p=np.logical_not(self.p)\n",
    "        self.neg_q=np.logical_not(self.q)\n",
    "        self.ln=4\n",
    "        \n",
    "    def generate_tables(self):\n",
    "        num=self.ln\n",
    "        cases=list(range(2**self.ln))\n",
    "        imp=np.array([])\n",
    "        imps=np.array([])\n",
    "        \n",
    "        for ic in cases:\n",
    "            bi=np.binary_repr(ic, num)\n",
    "            imps=np.append(imps, bi)\n",
    "            \n",
    "        for ic in cases:\n",
    "            for ip in range(4):\n",
    "                imp=np.append(imp, int(imps[ic][ip]))\n",
    "\n",
    "        imp=list(bool(imp[ic]) for ic in range(len(imp)))        \n",
    "        imp=np.array(imp)\n",
    "        imp=imp.reshape(2**self.ln,num)\n",
    "\n",
    "        self.imp=imp\n",
    "\n",
    "l=variable()\n",
    "l.generate_tables()"
   ]
  },
  {
   "cell_type": "markdown",
   "id": "745f31d3",
   "metadata": {},
   "source": [
    "Il metodo *generate_tables* genera tutte le 16 *tabelle di verità* delle possibili relazioni binarie *R* che agiscono su *D* [con risultato in *V*; si veda la relazione (2)]. Queste sono salvate nell'array *imp* (attributo della classe *variable*):"
   ]
  },
  {
   "cell_type": "code",
   "execution_count": 5,
   "id": "60639fc4",
   "metadata": {},
   "outputs": [
    {
     "data": {
      "text/plain": [
       "array([[False, False, False, False],\n",
       "       [False, False, False,  True],\n",
       "       [False, False,  True, False],\n",
       "       [False, False,  True,  True],\n",
       "       [False,  True, False, False],\n",
       "       [False,  True, False,  True],\n",
       "       [False,  True,  True, False],\n",
       "       [False,  True,  True,  True],\n",
       "       [ True, False, False, False],\n",
       "       [ True, False, False,  True],\n",
       "       [ True, False,  True, False],\n",
       "       [ True, False,  True,  True],\n",
       "       [ True,  True, False, False],\n",
       "       [ True,  True, False,  True],\n",
       "       [ True,  True,  True, False],\n",
       "       [ True,  True,  True,  True]])"
      ]
     },
     "execution_count": 5,
     "metadata": {},
     "output_type": "execute_result"
    }
   ],
   "source": [
    "l.imp"
   ]
  },
  {
   "cell_type": "markdown",
   "id": "d127940b",
   "metadata": {},
   "source": [
    "Definiamo adesso la funzione *modus_ponens* che calcola il valore di verità della proposizione (3); la funzione accetta come argomento un numero intero che varia tra 0 e 15, e identifica una delle possibili 16 righe (ciascuna di 4 valori) dell'array *imp*. "
   ]
  },
  {
   "cell_type": "code",
   "execution_count": 6,
   "id": "5fc1270b",
   "metadata": {},
   "outputs": [],
   "source": [
    "def modus_ponens(it):\n",
    "    \n",
    "# a and (a --> b) --> b\n",
    "    \n",
    "    imp=l.imp[it]\n",
    "    print(\"  p       q      p and (p --> q)     p and (p --> q) --> q\")\n",
    "       \n",
    "    for ic in range(l.ln):\n",
    "        pi=l.p[ic]\n",
    "        qi=l.q[ic]\n",
    "        vi=pi & imp[ic]\n",
    "        \n",
    "        if vi & qi: pos=0\n",
    "        if vi & (not qi): pos=1\n",
    "        if (not vi) and qi: pos=2\n",
    "        if (not vi) and (not qi): pos=3\n",
    "        \n",
    "        im=imp[pos]\n",
    "               \n",
    "        print(\"%5s   %5s   %10s   %19s\"  % (pi, qi, vi, im))"
   ]
  },
  {
   "cell_type": "markdown",
   "id": "9f07bff6",
   "metadata": {},
   "source": [
    "Per esempio, *modus_ponens(1)* restituisce:"
   ]
  },
  {
   "cell_type": "code",
   "execution_count": 7,
   "id": "100e3889",
   "metadata": {},
   "outputs": [
    {
     "name": "stdout",
     "output_type": "stream",
     "text": [
      "  p       q      p and (p --> q)     p and (p --> q) --> q\n",
      " True    True        False                 False\n",
      " True   False        False                  True\n",
      "False    True        False                 False\n",
      "False   False        False                  True\n"
     ]
    }
   ],
   "source": [
    "modus_ponens(1)"
   ]
  },
  {
   "cell_type": "markdown",
   "id": "920d16c6",
   "metadata": {},
   "source": [
    "L'ultima colonna (F,T,F,T) ci dice che, usando (F, F, F, T) come assegnazione per l'implicazione, che corrisponde alla seconda riga dell'array *imp*: "
   ]
  },
  {
   "cell_type": "code",
   "execution_count": 8,
   "id": "b0577bed",
   "metadata": {},
   "outputs": [
    {
     "data": {
      "text/plain": [
       "array([False, False, False,  True])"
      ]
     },
     "execution_count": 8,
     "metadata": {},
     "output_type": "execute_result"
    }
   ],
   "source": [
    "l.imp[1]"
   ]
  },
  {
   "cell_type": "markdown",
   "id": "1c5b5678",
   "metadata": {},
   "source": [
    "l'uscita della funzione *modus_ponens* non è una tautologia (T,T,T,T). Quindi (F,F,F,T) non è una *buona* assegnazione per l'implicazione. Tutto questo a prescindere da ogni altra considerazione sull'aderenza di una simile tabella di verità al significato che diamo solitamente al termine *implica*; per esempio, se (F,F,F,T) fosse la nostra definizione di implicazione, allora sarebbe *falso* che *vero implica vero*. \n",
    "\n",
    "Proviamo tutte le possibilità contenute nell'array *imp* e vediamo quali di queste portino a una tautologia per il *modus ponens*: "
   ]
  },
  {
   "cell_type": "code",
   "execution_count": 9,
   "id": "702b73ea",
   "metadata": {},
   "outputs": [
    {
     "name": "stdout",
     "output_type": "stream",
     "text": [
      "Case  0); values:  [False False False False]\n",
      "  p       q      p and (p --> q)     p and (p --> q) --> q\n",
      " True    True        False                 False\n",
      " True   False        False                 False\n",
      "False    True        False                 False\n",
      "False   False        False                 False\n",
      "---------------------\n",
      "\n",
      "Case  1); values:  [False False False  True]\n",
      "  p       q      p and (p --> q)     p and (p --> q) --> q\n",
      " True    True        False                 False\n",
      " True   False        False                  True\n",
      "False    True        False                 False\n",
      "False   False        False                  True\n",
      "---------------------\n",
      "\n",
      "Case  2); values:  [False False  True False]\n",
      "  p       q      p and (p --> q)     p and (p --> q) --> q\n",
      " True    True        False                  True\n",
      " True   False        False                 False\n",
      "False    True        False                  True\n",
      "False   False        False                 False\n",
      "---------------------\n",
      "\n",
      "Case  3); values:  [False False  True  True]\n",
      "  p       q      p and (p --> q)     p and (p --> q) --> q\n",
      " True    True        False                  True\n",
      " True   False        False                  True\n",
      "False    True        False                  True\n",
      "False   False        False                  True\n",
      "---------------------\n",
      "\n",
      "Case  4); values:  [False  True False False]\n",
      "  p       q      p and (p --> q)     p and (p --> q) --> q\n",
      " True    True        False                 False\n",
      " True   False         True                  True\n",
      "False    True        False                 False\n",
      "False   False        False                 False\n",
      "---------------------\n",
      "\n",
      "Case  5); values:  [False  True False  True]\n",
      "  p       q      p and (p --> q)     p and (p --> q) --> q\n",
      " True    True        False                 False\n",
      " True   False         True                  True\n",
      "False    True        False                 False\n",
      "False   False        False                  True\n",
      "---------------------\n",
      "\n",
      "Case  6); values:  [False  True  True False]\n",
      "  p       q      p and (p --> q)     p and (p --> q) --> q\n",
      " True    True        False                  True\n",
      " True   False         True                  True\n",
      "False    True        False                  True\n",
      "False   False        False                 False\n",
      "---------------------\n",
      "\n",
      "Case  7); values:  [False  True  True  True]\n",
      "  p       q      p and (p --> q)     p and (p --> q) --> q\n",
      " True    True        False                  True\n",
      " True   False         True                  True\n",
      "False    True        False                  True\n",
      "False   False        False                  True\n",
      "---------------------\n",
      "\n",
      "Case  8); values:  [ True False False False]\n",
      "  p       q      p and (p --> q)     p and (p --> q) --> q\n",
      " True    True         True                  True\n",
      " True   False        False                 False\n",
      "False    True        False                 False\n",
      "False   False        False                 False\n",
      "---------------------\n",
      "\n",
      "Case  9); values:  [ True False False  True]\n",
      "  p       q      p and (p --> q)     p and (p --> q) --> q\n",
      " True    True         True                  True\n",
      " True   False        False                  True\n",
      "False    True        False                 False\n",
      "False   False        False                  True\n",
      "---------------------\n",
      "\n",
      "Case 10); values:  [ True False  True False]\n",
      "  p       q      p and (p --> q)     p and (p --> q) --> q\n",
      " True    True         True                  True\n",
      " True   False        False                 False\n",
      "False    True        False                  True\n",
      "False   False        False                 False\n",
      "---------------------\n",
      "\n",
      "Case 11); values:  [ True False  True  True]\n",
      "  p       q      p and (p --> q)     p and (p --> q) --> q\n",
      " True    True         True                  True\n",
      " True   False        False                  True\n",
      "False    True        False                  True\n",
      "False   False        False                  True\n",
      "---------------------\n",
      "\n",
      "Case 12); values:  [ True  True False False]\n",
      "  p       q      p and (p --> q)     p and (p --> q) --> q\n",
      " True    True         True                  True\n",
      " True   False         True                  True\n",
      "False    True        False                 False\n",
      "False   False        False                 False\n",
      "---------------------\n",
      "\n",
      "Case 13); values:  [ True  True False  True]\n",
      "  p       q      p and (p --> q)     p and (p --> q) --> q\n",
      " True    True         True                  True\n",
      " True   False         True                  True\n",
      "False    True        False                 False\n",
      "False   False        False                  True\n",
      "---------------------\n",
      "\n",
      "Case 14); values:  [ True  True  True False]\n",
      "  p       q      p and (p --> q)     p and (p --> q) --> q\n",
      " True    True         True                  True\n",
      " True   False         True                  True\n",
      "False    True        False                  True\n",
      "False   False        False                 False\n",
      "---------------------\n",
      "\n",
      "Case 15); values:  [ True  True  True  True]\n",
      "  p       q      p and (p --> q)     p and (p --> q) --> q\n",
      " True    True         True                  True\n",
      " True   False         True                  True\n",
      "False    True        False                  True\n",
      "False   False        False                  True\n",
      "---------------------\n",
      "\n"
     ]
    }
   ],
   "source": [
    "for ic in range(16):\n",
    "    print(\"Case %2i); values:  %s\" % (ic, l.imp[ic]))\n",
    "    modus_ponens(ic)\n",
    "    print(\"---------------------\\n\")"
   ]
  },
  {
   "cell_type": "markdown",
   "id": "b020e62b",
   "metadata": {},
   "source": [
    "Individuiamo solo 4 casi per cui la nostra funzione *modus_ponens* restituisce (T,T,T,T), cioè una *tautologia*.\n",
    "\n",
    "- 3:  (F, F, T, T)\n",
    "- 7:  (F, T, T, T)\n",
    "- 11: (T, F, T, T)\n",
    "- 15: (T, T, T, T)\n",
    "\n",
    "Notiamo che il caso 15 corrisponde a una tautologia per l'implicazione medesima (e non solo per il *modus ponens*) e quindi *non è aderente al significato logico che diamo al termine implicazione*. I casi 3 e 7 prevedono che sia *falso* che *vero implica vero*: abbiamo ancora non aderenza al significato di *implicazione*. Rimane il caso 11 (T, F, T, T) che è in effetti la *tabella di verità* usata per definire l'implicazione logica.\n",
    "\n",
    "C'è ancora un'altra ragione che ci porta a escludere i casi 3 e 7. Si tratta di una forma di ragionamento che usiamo spesso in logica e in matematica, ed è la ***dimostrazione per assurdo***: per *dimostrare* che $p \\rightarrow q$, a volte *dimostriamo* che $\\neg q \\rightarrow \\neg p$, dove con $\\neg q$ indichiamo la *negazione* di $q$ (lo stesso per $\\neg p$). Se siamo in grado di dimostrare che  \"**se *q* è falso *allora* deve essere falso anche *p***\" usiamo questo argomento per dire che **se *p* è vero allora anche *q* deve esserlo** (appunto perché se *q* fosse falso, allora dovrebbe esserlo anche *p*, in contraddizione con la premessa che *p* sia vero). \n",
    "\n",
    "Noi vogliamo che le due proposizioni $(p \\rightarrow q)$ e $(\\neg q\\rightarrow \\neg p)$ siano *equivalenti*, cioè abbiano la *stessa tabella della verità*. \n",
    "\n",
    "Non tutte le assegnazioni per l'implicazione sono consistenti con la richiesta di cui sopra. Definiamo la funzione *absurd* come segue:  "
   ]
  },
  {
   "cell_type": "code",
   "execution_count": 10,
   "id": "d4874b68",
   "metadata": {},
   "outputs": [],
   "source": [
    "def absurd(it):\n",
    "    \n",
    "# (p --> q) <--> (not q) --> (not p)\n",
    "\n",
    "    imp=l.imp[it]\n",
    "    \n",
    "    print(\"  p       q      p --> q     (not q) --> (not p)\")\n",
    "    \n",
    "    for ic in range(l.ln):\n",
    "        pi=l.p[ic]\n",
    "        qi=l.q[ic] \n",
    "        vi=imp[ic]\n",
    "        \n",
    "        qin=l.neg_q[ic]\n",
    "        pin=l.neg_p[ic]\n",
    "        \n",
    "        if qin & pin: pos=0\n",
    "        if qin & (not pin): pos=1\n",
    "        if (not qin) & pin: pos=2\n",
    "        if (not qin) & (not pin): pos=3\n",
    "        \n",
    "        im=imp[pos]\n",
    "        \n",
    "        print(\"%5s   %5s   %7s     %13s\"  % (pi, qi, vi, im))"
   ]
  },
  {
   "cell_type": "markdown",
   "id": "6ad96b47",
   "metadata": {},
   "source": [
    "La funzione accetta come input una delle possibili *tabelle di verità* per l'implicazione (così come la precedente funzione *modus_ponens*) e calcola $\\neg q \\rightarrow \\neg p$. Per esempio, se testiamo il caso 3 (F, F, T, T) per l'implicazione, che rendeva il *modus ponens* una tautologia, abbiamo:  "
   ]
  },
  {
   "cell_type": "code",
   "execution_count": 11,
   "id": "c52ccbae",
   "metadata": {},
   "outputs": [
    {
     "name": "stdout",
     "output_type": "stream",
     "text": [
      "  p       q      p --> q     (not q) --> (not p)\n",
      " True    True     False              True\n",
      " True   False     False             False\n",
      "False    True      True              True\n",
      "False   False      True             False\n"
     ]
    }
   ],
   "source": [
    "absurd(3)"
   ]
  },
  {
   "cell_type": "markdown",
   "id": "61b07f5b",
   "metadata": {},
   "source": [
    "Vediamo che $p \\rightarrow q$ ha valori (F, F, T, T) *diversi* da quelli di $\\neg q \\rightarrow \\neg p$ (T, F, T, F), quindi questa assegnazione per l'implicazione rende *impossibile la dimostrazione per assurdo*. Lo stesso per il caso 7:  "
   ]
  },
  {
   "cell_type": "code",
   "execution_count": 12,
   "id": "af843ca7",
   "metadata": {},
   "outputs": [
    {
     "name": "stdout",
     "output_type": "stream",
     "text": [
      "  p       q      p --> q     (not q) --> (not p)\n",
      " True    True     False              True\n",
      " True   False      True              True\n",
      "False    True      True              True\n",
      "False   False      True             False\n"
     ]
    }
   ],
   "source": [
    "absurd(7)"
   ]
  },
  {
   "cell_type": "markdown",
   "id": "8aa62334",
   "metadata": {},
   "source": [
    "Mentre per il caso 11:"
   ]
  },
  {
   "cell_type": "code",
   "execution_count": 13,
   "id": "bb0ec926",
   "metadata": {},
   "outputs": [
    {
     "name": "stdout",
     "output_type": "stream",
     "text": [
      "  p       q      p --> q     (not q) --> (not p)\n",
      " True    True      True              True\n",
      " True   False     False             False\n",
      "False    True      True              True\n",
      "False   False      True              True\n"
     ]
    }
   ],
   "source": [
    "absurd(11)"
   ]
  },
  {
   "cell_type": "markdown",
   "id": "32b37a43",
   "metadata": {},
   "source": [
    "vediamo che $p\\rightarrow q$ è effettivamente equivalente a $\\neg q\\rightarrow \\neg p$. \n",
    "\n",
    "Quindi, il caso 11 (T, F, T, T) è consistente con la *dimostrazione per assurdo* e rende il *modus ponens* una tautologia:"
   ]
  },
  {
   "cell_type": "code",
   "execution_count": 14,
   "id": "3b956539",
   "metadata": {},
   "outputs": [
    {
     "name": "stdout",
     "output_type": "stream",
     "text": [
      "  p       q      p and (p --> q)     p and (p --> q) --> q\n",
      " True    True         True                  True\n",
      " True   False        False                  True\n",
      "False    True        False                  True\n",
      "False   False        False                  True\n"
     ]
    }
   ],
   "source": [
    "modus_ponens(11)"
   ]
  },
  {
   "cell_type": "markdown",
   "id": "3e8831a4",
   "metadata": {},
   "source": [
    "In definitiva, la *tabella di verità* dell'*implicazione* è:"
   ]
  },
  {
   "cell_type": "markdown",
   "id": "e9fc8121",
   "metadata": {},
   "source": [
    "| p   |   q   |   p --> q |\n",
    "|-----|:-----:|----------:|\n",
    "| T   |   T   |     T     |\n",
    "| T   |   F   |     F     |\n",
    "| F   |   T   |     T     |\n",
    "| F   |   F   |     T     |"
   ]
  },
  {
   "cell_type": "markdown",
   "id": "ce3deb79",
   "metadata": {},
   "source": [
    "Nonostante le due ultime righe della tabella non siano così *intuitive* (*è vero che una premessa falsa implica una conseguenza che può essere sia vera che falsa*: ***ex falso sequitur quodlibet***) questa assegnazione è il più possibile aderente a quello che intendiamo con *implicazione* (in particolare, *è vero che una premessa vera implica una conseguenza vera* ed *è falso che una premessa vera implica una conseguenza falsa*), rende valido il *modus ponens* e rende possibile la *dimostrazione per assurdo*."
   ]
  }
 ],
 "metadata": {
  "kernelspec": {
   "display_name": "Python 3 (ipykernel)",
   "language": "python",
   "name": "python3"
  },
  "language_info": {
   "codemirror_mode": {
    "name": "ipython",
    "version": 3
   },
   "file_extension": ".py",
   "mimetype": "text/x-python",
   "name": "python",
   "nbconvert_exporter": "python",
   "pygments_lexer": "ipython3",
   "version": "3.12.7"
  },
  "latex_envs": {
   "LaTeX_envs_menu_present": true,
   "autoclose": false,
   "autocomplete": true,
   "bibliofile": "biblio.bib",
   "cite_by": "apalike",
   "current_citInitial": 1,
   "eqLabelWithNumbers": true,
   "eqNumInitial": 1,
   "hotkeys": {
    "equation": "Ctrl-E",
    "itemize": "Ctrl-I"
   },
   "labels_anchors": false,
   "latex_user_defs": false,
   "report_style_numbering": false,
   "user_envs_cfg": false
  },
  "nbTranslate": {
   "displayLangs": [
    "*"
   ],
   "hotkey": "alt-t",
   "langInMainMenu": true,
   "sourceLang": "en",
   "targetLang": "fr",
   "useGoogleTranslate": true
  },
  "varInspector": {
   "cols": {
    "lenName": 16,
    "lenType": 16,
    "lenVar": 40
   },
   "kernels_config": {
    "python": {
     "delete_cmd_postfix": "",
     "delete_cmd_prefix": "del ",
     "library": "var_list.py",
     "varRefreshCmd": "print(var_dic_list())"
    },
    "r": {
     "delete_cmd_postfix": ") ",
     "delete_cmd_prefix": "rm(",
     "library": "var_list.r",
     "varRefreshCmd": "cat(var_dic_list()) "
    }
   },
   "types_to_exclude": [
    "module",
    "function",
    "builtin_function_or_method",
    "instance",
    "_Feature"
   ],
   "window_display": false
  }
 },
 "nbformat": 4,
 "nbformat_minor": 5
}
